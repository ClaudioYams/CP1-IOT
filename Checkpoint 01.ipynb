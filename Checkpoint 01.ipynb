{
  "nbformat": 4,
  "nbformat_minor": 0,
  "metadata": {
    "colab": {
      "provenance": []
    },
    "kernelspec": {
      "name": "python3",
      "display_name": "Python 3"
    },
    "language_info": {
      "name": "python"
    }
  },
  "cells": [
    {
      "cell_type": "markdown",
      "source": [
        "# **Checkpoint 01 - Modelagem de Dados e Aprendizagem de Máquina**\n",
        "\n",
        "## **Objetivo**\n",
        "Avaliar conceitos sobre Modelagem de dados e Aprendizado de Máquina (ML) adquiridos no curso.\n",
        "\n",
        "## **Descrição do Desafio**\n",
        "Você foi contratado por uma empresa que desenvolveu uma plataforma de compra e venda de carros usados. O funcionamento é bem simples, os usuários cadastram o carro que querem vender e esperam que outro usuário os compre, a empresa então fica com uma parte do valor de venda. Seu papel é desenvolver um modelo que possa determinar qual o melhor preço de venda para um usado.\n",
        "\n",
        "Para nortear o desenvolvimento, você precisa de um ponto de partida e determinou uma pergunta chave: **Qual o preço de venda de um veículo Volkswagen Sedan 2.0 a gasolina, ano 2005, com cerca de 172095 km rodados?**\n",
        "\n",
        "### **Orientações**\n",
        "Para responder a essa pergunta, você deve utilizar o dataset da empresa, que está representado no arquivo **carros.csv**, e seguir o roteiro proposto neste desafio."
      ],
      "metadata": {
        "id": "j-bzGvV3uE1y"
      }
    },
    {
      "cell_type": "markdown",
      "source": [
        "## **Exploração de Dados - 2 pontos**\n",
        "\n",
        "1 - Carregue o dataset e faça a inspeção nas 15 primeiras linhas para identificação dos atributos. Quantos dados existem nesse dataset? Qual a quantidade de atributos? Existem valores faltantes? De que tipo são os dados? (1,0)"
      ],
      "metadata": {
        "id": "3sD4e4IY13Ux"
      }
    },
    {
      "cell_type": "code",
      "source": [
        "from pandas._config import describe_option\n",
        "link = 'https://raw.githubusercontent.com/Claudio2022/CP1-IOT/main/carros.csv'\n",
        "import pandas as pd\n",
        "import seaborn as sns\n",
        "import matplotlib.pyplot as plt\n",
        "\n",
        "df = pd.read_csv('https://raw.githubusercontent.com/Claudio2022/CP1-IOT/main/carros.csv')\n",
        "df.info()\n",
        "df.isnull()\n",
        "df = df.dropna(axis = 0)\n",
        "df"
      ],
      "metadata": {
        "id": "SsuvPzQQ5PAt",
        "outputId": "5d3e9ea8-e97c-4a66-fe4a-3e42b96a3def",
        "colab": {
          "base_uri": "https://localhost:8080/",
          "height": 701
        }
      },
      "execution_count": 18,
      "outputs": [
        {
          "output_type": "stream",
          "name": "stdout",
          "text": [
            "<class 'pandas.core.frame.DataFrame'>\n",
            "RangeIndex: 4345 entries, 0 to 4344\n",
            "Data columns (total 9 columns):\n",
            " #   Column        Non-Null Count  Dtype  \n",
            "---  ------        --------------  -----  \n",
            " 0   Brand         4345 non-null   object \n",
            " 1   Price         4173 non-null   float64\n",
            " 2   Body          4345 non-null   object \n",
            " 3   Mileage/1000  4345 non-null   int64  \n",
            " 4   EngineV       4195 non-null   float64\n",
            " 5   Engine Type   4345 non-null   object \n",
            " 6   Registration  4345 non-null   object \n",
            " 7   Year          4345 non-null   int64  \n",
            " 8   Model         4345 non-null   object \n",
            "dtypes: float64(2), int64(2), object(5)\n",
            "memory usage: 305.6+ KB\n"
          ]
        },
        {
          "output_type": "execute_result",
          "data": {
            "text/plain": [
              "              Brand     Price       Body  Mileage/1000  EngineV Engine Type  \\\n",
              "0               BMW    4200.0      sedan           277      2.0      Petrol   \n",
              "1     Mercedes-Benz    7900.0        van           427      2.9      Diesel   \n",
              "2     Mercedes-Benz   13300.0      sedan           358      5.0         Gas   \n",
              "3              Audi   23000.0  crossover           240      4.2      Petrol   \n",
              "4            Toyota   18300.0  crossover           120      2.0      Petrol   \n",
              "...             ...       ...        ...           ...      ...         ...   \n",
              "4339         Toyota   17900.0      sedan            35      1.6      Petrol   \n",
              "4340  Mercedes-Benz  125000.0      sedan             9      3.0      Diesel   \n",
              "4341            BMW    6500.0      sedan             1      3.5      Petrol   \n",
              "4342            BMW    8000.0      sedan           194      2.0      Petrol   \n",
              "4344     Volkswagen   13500.0        van           124      2.0      Diesel   \n",
              "\n",
              "     Registration  Year              Model  \n",
              "0             yes  1991                320  \n",
              "1             yes  1999       Sprinter 212  \n",
              "2             yes  2003              S 500  \n",
              "3             yes  2007                 Q7  \n",
              "4             yes  2011              Rav 4  \n",
              "...           ...   ...                ...  \n",
              "4339          yes  2014            Corolla  \n",
              "4340          yes  2014              S 350  \n",
              "4341          yes  1999                535  \n",
              "4342          yes  1985                520  \n",
              "4344          yes  2013  T5 (Transporter)   \n",
              "\n",
              "[4025 rows x 9 columns]"
            ],
            "text/html": [
              "\n",
              "  <div id=\"df-c3aa4051-19b3-4c22-969a-006ed81234d4\">\n",
              "    <div class=\"colab-df-container\">\n",
              "      <div>\n",
              "<style scoped>\n",
              "    .dataframe tbody tr th:only-of-type {\n",
              "        vertical-align: middle;\n",
              "    }\n",
              "\n",
              "    .dataframe tbody tr th {\n",
              "        vertical-align: top;\n",
              "    }\n",
              "\n",
              "    .dataframe thead th {\n",
              "        text-align: right;\n",
              "    }\n",
              "</style>\n",
              "<table border=\"1\" class=\"dataframe\">\n",
              "  <thead>\n",
              "    <tr style=\"text-align: right;\">\n",
              "      <th></th>\n",
              "      <th>Brand</th>\n",
              "      <th>Price</th>\n",
              "      <th>Body</th>\n",
              "      <th>Mileage/1000</th>\n",
              "      <th>EngineV</th>\n",
              "      <th>Engine Type</th>\n",
              "      <th>Registration</th>\n",
              "      <th>Year</th>\n",
              "      <th>Model</th>\n",
              "    </tr>\n",
              "  </thead>\n",
              "  <tbody>\n",
              "    <tr>\n",
              "      <th>0</th>\n",
              "      <td>BMW</td>\n",
              "      <td>4200.0</td>\n",
              "      <td>sedan</td>\n",
              "      <td>277</td>\n",
              "      <td>2.0</td>\n",
              "      <td>Petrol</td>\n",
              "      <td>yes</td>\n",
              "      <td>1991</td>\n",
              "      <td>320</td>\n",
              "    </tr>\n",
              "    <tr>\n",
              "      <th>1</th>\n",
              "      <td>Mercedes-Benz</td>\n",
              "      <td>7900.0</td>\n",
              "      <td>van</td>\n",
              "      <td>427</td>\n",
              "      <td>2.9</td>\n",
              "      <td>Diesel</td>\n",
              "      <td>yes</td>\n",
              "      <td>1999</td>\n",
              "      <td>Sprinter 212</td>\n",
              "    </tr>\n",
              "    <tr>\n",
              "      <th>2</th>\n",
              "      <td>Mercedes-Benz</td>\n",
              "      <td>13300.0</td>\n",
              "      <td>sedan</td>\n",
              "      <td>358</td>\n",
              "      <td>5.0</td>\n",
              "      <td>Gas</td>\n",
              "      <td>yes</td>\n",
              "      <td>2003</td>\n",
              "      <td>S 500</td>\n",
              "    </tr>\n",
              "    <tr>\n",
              "      <th>3</th>\n",
              "      <td>Audi</td>\n",
              "      <td>23000.0</td>\n",
              "      <td>crossover</td>\n",
              "      <td>240</td>\n",
              "      <td>4.2</td>\n",
              "      <td>Petrol</td>\n",
              "      <td>yes</td>\n",
              "      <td>2007</td>\n",
              "      <td>Q7</td>\n",
              "    </tr>\n",
              "    <tr>\n",
              "      <th>4</th>\n",
              "      <td>Toyota</td>\n",
              "      <td>18300.0</td>\n",
              "      <td>crossover</td>\n",
              "      <td>120</td>\n",
              "      <td>2.0</td>\n",
              "      <td>Petrol</td>\n",
              "      <td>yes</td>\n",
              "      <td>2011</td>\n",
              "      <td>Rav 4</td>\n",
              "    </tr>\n",
              "    <tr>\n",
              "      <th>...</th>\n",
              "      <td>...</td>\n",
              "      <td>...</td>\n",
              "      <td>...</td>\n",
              "      <td>...</td>\n",
              "      <td>...</td>\n",
              "      <td>...</td>\n",
              "      <td>...</td>\n",
              "      <td>...</td>\n",
              "      <td>...</td>\n",
              "    </tr>\n",
              "    <tr>\n",
              "      <th>4339</th>\n",
              "      <td>Toyota</td>\n",
              "      <td>17900.0</td>\n",
              "      <td>sedan</td>\n",
              "      <td>35</td>\n",
              "      <td>1.6</td>\n",
              "      <td>Petrol</td>\n",
              "      <td>yes</td>\n",
              "      <td>2014</td>\n",
              "      <td>Corolla</td>\n",
              "    </tr>\n",
              "    <tr>\n",
              "      <th>4340</th>\n",
              "      <td>Mercedes-Benz</td>\n",
              "      <td>125000.0</td>\n",
              "      <td>sedan</td>\n",
              "      <td>9</td>\n",
              "      <td>3.0</td>\n",
              "      <td>Diesel</td>\n",
              "      <td>yes</td>\n",
              "      <td>2014</td>\n",
              "      <td>S 350</td>\n",
              "    </tr>\n",
              "    <tr>\n",
              "      <th>4341</th>\n",
              "      <td>BMW</td>\n",
              "      <td>6500.0</td>\n",
              "      <td>sedan</td>\n",
              "      <td>1</td>\n",
              "      <td>3.5</td>\n",
              "      <td>Petrol</td>\n",
              "      <td>yes</td>\n",
              "      <td>1999</td>\n",
              "      <td>535</td>\n",
              "    </tr>\n",
              "    <tr>\n",
              "      <th>4342</th>\n",
              "      <td>BMW</td>\n",
              "      <td>8000.0</td>\n",
              "      <td>sedan</td>\n",
              "      <td>194</td>\n",
              "      <td>2.0</td>\n",
              "      <td>Petrol</td>\n",
              "      <td>yes</td>\n",
              "      <td>1985</td>\n",
              "      <td>520</td>\n",
              "    </tr>\n",
              "    <tr>\n",
              "      <th>4344</th>\n",
              "      <td>Volkswagen</td>\n",
              "      <td>13500.0</td>\n",
              "      <td>van</td>\n",
              "      <td>124</td>\n",
              "      <td>2.0</td>\n",
              "      <td>Diesel</td>\n",
              "      <td>yes</td>\n",
              "      <td>2013</td>\n",
              "      <td>T5 (Transporter)</td>\n",
              "    </tr>\n",
              "  </tbody>\n",
              "</table>\n",
              "<p>4025 rows × 9 columns</p>\n",
              "</div>\n",
              "      <button class=\"colab-df-convert\" onclick=\"convertToInteractive('df-c3aa4051-19b3-4c22-969a-006ed81234d4')\"\n",
              "              title=\"Convert this dataframe to an interactive table.\"\n",
              "              style=\"display:none;\">\n",
              "        \n",
              "  <svg xmlns=\"http://www.w3.org/2000/svg\" height=\"24px\"viewBox=\"0 0 24 24\"\n",
              "       width=\"24px\">\n",
              "    <path d=\"M0 0h24v24H0V0z\" fill=\"none\"/>\n",
              "    <path d=\"M18.56 5.44l.94 2.06.94-2.06 2.06-.94-2.06-.94-.94-2.06-.94 2.06-2.06.94zm-11 1L8.5 8.5l.94-2.06 2.06-.94-2.06-.94L8.5 2.5l-.94 2.06-2.06.94zm10 10l.94 2.06.94-2.06 2.06-.94-2.06-.94-.94-2.06-.94 2.06-2.06.94z\"/><path d=\"M17.41 7.96l-1.37-1.37c-.4-.4-.92-.59-1.43-.59-.52 0-1.04.2-1.43.59L10.3 9.45l-7.72 7.72c-.78.78-.78 2.05 0 2.83L4 21.41c.39.39.9.59 1.41.59.51 0 1.02-.2 1.41-.59l7.78-7.78 2.81-2.81c.8-.78.8-2.07 0-2.86zM5.41 20L4 18.59l7.72-7.72 1.47 1.35L5.41 20z\"/>\n",
              "  </svg>\n",
              "      </button>\n",
              "      \n",
              "  <style>\n",
              "    .colab-df-container {\n",
              "      display:flex;\n",
              "      flex-wrap:wrap;\n",
              "      gap: 12px;\n",
              "    }\n",
              "\n",
              "    .colab-df-convert {\n",
              "      background-color: #E8F0FE;\n",
              "      border: none;\n",
              "      border-radius: 50%;\n",
              "      cursor: pointer;\n",
              "      display: none;\n",
              "      fill: #1967D2;\n",
              "      height: 32px;\n",
              "      padding: 0 0 0 0;\n",
              "      width: 32px;\n",
              "    }\n",
              "\n",
              "    .colab-df-convert:hover {\n",
              "      background-color: #E2EBFA;\n",
              "      box-shadow: 0px 1px 2px rgba(60, 64, 67, 0.3), 0px 1px 3px 1px rgba(60, 64, 67, 0.15);\n",
              "      fill: #174EA6;\n",
              "    }\n",
              "\n",
              "    [theme=dark] .colab-df-convert {\n",
              "      background-color: #3B4455;\n",
              "      fill: #D2E3FC;\n",
              "    }\n",
              "\n",
              "    [theme=dark] .colab-df-convert:hover {\n",
              "      background-color: #434B5C;\n",
              "      box-shadow: 0px 1px 3px 1px rgba(0, 0, 0, 0.15);\n",
              "      filter: drop-shadow(0px 1px 2px rgba(0, 0, 0, 0.3));\n",
              "      fill: #FFFFFF;\n",
              "    }\n",
              "  </style>\n",
              "\n",
              "      <script>\n",
              "        const buttonEl =\n",
              "          document.querySelector('#df-c3aa4051-19b3-4c22-969a-006ed81234d4 button.colab-df-convert');\n",
              "        buttonEl.style.display =\n",
              "          google.colab.kernel.accessAllowed ? 'block' : 'none';\n",
              "\n",
              "        async function convertToInteractive(key) {\n",
              "          const element = document.querySelector('#df-c3aa4051-19b3-4c22-969a-006ed81234d4');\n",
              "          const dataTable =\n",
              "            await google.colab.kernel.invokeFunction('convertToInteractive',\n",
              "                                                     [key], {});\n",
              "          if (!dataTable) return;\n",
              "\n",
              "          const docLinkHtml = 'Like what you see? Visit the ' +\n",
              "            '<a target=\"_blank\" href=https://colab.research.google.com/notebooks/data_table.ipynb>data table notebook</a>'\n",
              "            + ' to learn more about interactive tables.';\n",
              "          element.innerHTML = '';\n",
              "          dataTable['output_type'] = 'display_data';\n",
              "          await google.colab.output.renderOutput(dataTable, element);\n",
              "          const docLink = document.createElement('div');\n",
              "          docLink.innerHTML = docLinkHtml;\n",
              "          element.appendChild(docLink);\n",
              "        }\n",
              "      </script>\n",
              "    </div>\n",
              "  </div>\n",
              "  "
            ]
          },
          "metadata": {},
          "execution_count": 18
        }
      ]
    },
    {
      "cell_type": "markdown",
      "source": [
        "2 - Note que os dataset está no sistema americano. Converta os dados para o sistema métrico e altere o cabeçalho de forma que os dados façam sentido. (1,0)\n",
        "\n",
        "Obs: Os dados de Milhas dividos por mil, ou seja, multiplique o valor por 1.000 para ter o valor real!"
      ],
      "metadata": {
        "id": "qXaP-3r05bSZ"
      }
    },
    {
      "cell_type": "code",
      "source": [
        "df['km'] = df['Mileage/1000'] * 1000 * 1.60934\n",
        "df = df.drop(['Mileage/1000'], axis = 1)\n",
        "df\n",
        "\n",
        "traducao = {\n",
        "    'Brand' : 'marca',\n",
        "    'Price' : 'preço',\n",
        "    'Body' : 'tipo',\n",
        "    'EngineV' : 'motor',\n",
        "    'Engine Type' : 'combustivel',\n",
        "    'Registration' : 'cadastro',\n",
        "    'Year' : 'Ano',\n",
        "    'Model' : 'modelo',\n",
        "}\n",
        "df = df.rename(columns=traducao)\n",
        "\n",
        "df"
      ],
      "metadata": {
        "id": "FqWaPS5d7yk0",
        "outputId": "0be88e1b-3394-4dcb-8efb-f0eb7df96a07",
        "colab": {
          "base_uri": "https://localhost:8080/",
          "height": 423
        }
      },
      "execution_count": 19,
      "outputs": [
        {
          "output_type": "execute_result",
          "data": {
            "text/plain": [
              "              marca     preço       tipo  motor combustivel cadastro   Ano  \\\n",
              "0               BMW    4200.0      sedan    2.0      Petrol      yes  1991   \n",
              "1     Mercedes-Benz    7900.0        van    2.9      Diesel      yes  1999   \n",
              "2     Mercedes-Benz   13300.0      sedan    5.0         Gas      yes  2003   \n",
              "3              Audi   23000.0  crossover    4.2      Petrol      yes  2007   \n",
              "4            Toyota   18300.0  crossover    2.0      Petrol      yes  2011   \n",
              "...             ...       ...        ...    ...         ...      ...   ...   \n",
              "4339         Toyota   17900.0      sedan    1.6      Petrol      yes  2014   \n",
              "4340  Mercedes-Benz  125000.0      sedan    3.0      Diesel      yes  2014   \n",
              "4341            BMW    6500.0      sedan    3.5      Petrol      yes  1999   \n",
              "4342            BMW    8000.0      sedan    2.0      Petrol      yes  1985   \n",
              "4344     Volkswagen   13500.0        van    2.0      Diesel      yes  2013   \n",
              "\n",
              "                 modelo         km  \n",
              "0                   320  445787.18  \n",
              "1          Sprinter 212  687188.18  \n",
              "2                 S 500  576143.72  \n",
              "3                    Q7  386241.60  \n",
              "4                 Rav 4  193120.80  \n",
              "...                 ...        ...  \n",
              "4339            Corolla   56326.90  \n",
              "4340              S 350   14484.06  \n",
              "4341                535    1609.34  \n",
              "4342                520  312211.96  \n",
              "4344  T5 (Transporter)   199558.16  \n",
              "\n",
              "[4025 rows x 9 columns]"
            ],
            "text/html": [
              "\n",
              "  <div id=\"df-d4957d81-e26a-45f0-9163-8f974e8043b3\">\n",
              "    <div class=\"colab-df-container\">\n",
              "      <div>\n",
              "<style scoped>\n",
              "    .dataframe tbody tr th:only-of-type {\n",
              "        vertical-align: middle;\n",
              "    }\n",
              "\n",
              "    .dataframe tbody tr th {\n",
              "        vertical-align: top;\n",
              "    }\n",
              "\n",
              "    .dataframe thead th {\n",
              "        text-align: right;\n",
              "    }\n",
              "</style>\n",
              "<table border=\"1\" class=\"dataframe\">\n",
              "  <thead>\n",
              "    <tr style=\"text-align: right;\">\n",
              "      <th></th>\n",
              "      <th>marca</th>\n",
              "      <th>preço</th>\n",
              "      <th>tipo</th>\n",
              "      <th>motor</th>\n",
              "      <th>combustivel</th>\n",
              "      <th>cadastro</th>\n",
              "      <th>Ano</th>\n",
              "      <th>modelo</th>\n",
              "      <th>km</th>\n",
              "    </tr>\n",
              "  </thead>\n",
              "  <tbody>\n",
              "    <tr>\n",
              "      <th>0</th>\n",
              "      <td>BMW</td>\n",
              "      <td>4200.0</td>\n",
              "      <td>sedan</td>\n",
              "      <td>2.0</td>\n",
              "      <td>Petrol</td>\n",
              "      <td>yes</td>\n",
              "      <td>1991</td>\n",
              "      <td>320</td>\n",
              "      <td>445787.18</td>\n",
              "    </tr>\n",
              "    <tr>\n",
              "      <th>1</th>\n",
              "      <td>Mercedes-Benz</td>\n",
              "      <td>7900.0</td>\n",
              "      <td>van</td>\n",
              "      <td>2.9</td>\n",
              "      <td>Diesel</td>\n",
              "      <td>yes</td>\n",
              "      <td>1999</td>\n",
              "      <td>Sprinter 212</td>\n",
              "      <td>687188.18</td>\n",
              "    </tr>\n",
              "    <tr>\n",
              "      <th>2</th>\n",
              "      <td>Mercedes-Benz</td>\n",
              "      <td>13300.0</td>\n",
              "      <td>sedan</td>\n",
              "      <td>5.0</td>\n",
              "      <td>Gas</td>\n",
              "      <td>yes</td>\n",
              "      <td>2003</td>\n",
              "      <td>S 500</td>\n",
              "      <td>576143.72</td>\n",
              "    </tr>\n",
              "    <tr>\n",
              "      <th>3</th>\n",
              "      <td>Audi</td>\n",
              "      <td>23000.0</td>\n",
              "      <td>crossover</td>\n",
              "      <td>4.2</td>\n",
              "      <td>Petrol</td>\n",
              "      <td>yes</td>\n",
              "      <td>2007</td>\n",
              "      <td>Q7</td>\n",
              "      <td>386241.60</td>\n",
              "    </tr>\n",
              "    <tr>\n",
              "      <th>4</th>\n",
              "      <td>Toyota</td>\n",
              "      <td>18300.0</td>\n",
              "      <td>crossover</td>\n",
              "      <td>2.0</td>\n",
              "      <td>Petrol</td>\n",
              "      <td>yes</td>\n",
              "      <td>2011</td>\n",
              "      <td>Rav 4</td>\n",
              "      <td>193120.80</td>\n",
              "    </tr>\n",
              "    <tr>\n",
              "      <th>...</th>\n",
              "      <td>...</td>\n",
              "      <td>...</td>\n",
              "      <td>...</td>\n",
              "      <td>...</td>\n",
              "      <td>...</td>\n",
              "      <td>...</td>\n",
              "      <td>...</td>\n",
              "      <td>...</td>\n",
              "      <td>...</td>\n",
              "    </tr>\n",
              "    <tr>\n",
              "      <th>4339</th>\n",
              "      <td>Toyota</td>\n",
              "      <td>17900.0</td>\n",
              "      <td>sedan</td>\n",
              "      <td>1.6</td>\n",
              "      <td>Petrol</td>\n",
              "      <td>yes</td>\n",
              "      <td>2014</td>\n",
              "      <td>Corolla</td>\n",
              "      <td>56326.90</td>\n",
              "    </tr>\n",
              "    <tr>\n",
              "      <th>4340</th>\n",
              "      <td>Mercedes-Benz</td>\n",
              "      <td>125000.0</td>\n",
              "      <td>sedan</td>\n",
              "      <td>3.0</td>\n",
              "      <td>Diesel</td>\n",
              "      <td>yes</td>\n",
              "      <td>2014</td>\n",
              "      <td>S 350</td>\n",
              "      <td>14484.06</td>\n",
              "    </tr>\n",
              "    <tr>\n",
              "      <th>4341</th>\n",
              "      <td>BMW</td>\n",
              "      <td>6500.0</td>\n",
              "      <td>sedan</td>\n",
              "      <td>3.5</td>\n",
              "      <td>Petrol</td>\n",
              "      <td>yes</td>\n",
              "      <td>1999</td>\n",
              "      <td>535</td>\n",
              "      <td>1609.34</td>\n",
              "    </tr>\n",
              "    <tr>\n",
              "      <th>4342</th>\n",
              "      <td>BMW</td>\n",
              "      <td>8000.0</td>\n",
              "      <td>sedan</td>\n",
              "      <td>2.0</td>\n",
              "      <td>Petrol</td>\n",
              "      <td>yes</td>\n",
              "      <td>1985</td>\n",
              "      <td>520</td>\n",
              "      <td>312211.96</td>\n",
              "    </tr>\n",
              "    <tr>\n",
              "      <th>4344</th>\n",
              "      <td>Volkswagen</td>\n",
              "      <td>13500.0</td>\n",
              "      <td>van</td>\n",
              "      <td>2.0</td>\n",
              "      <td>Diesel</td>\n",
              "      <td>yes</td>\n",
              "      <td>2013</td>\n",
              "      <td>T5 (Transporter)</td>\n",
              "      <td>199558.16</td>\n",
              "    </tr>\n",
              "  </tbody>\n",
              "</table>\n",
              "<p>4025 rows × 9 columns</p>\n",
              "</div>\n",
              "      <button class=\"colab-df-convert\" onclick=\"convertToInteractive('df-d4957d81-e26a-45f0-9163-8f974e8043b3')\"\n",
              "              title=\"Convert this dataframe to an interactive table.\"\n",
              "              style=\"display:none;\">\n",
              "        \n",
              "  <svg xmlns=\"http://www.w3.org/2000/svg\" height=\"24px\"viewBox=\"0 0 24 24\"\n",
              "       width=\"24px\">\n",
              "    <path d=\"M0 0h24v24H0V0z\" fill=\"none\"/>\n",
              "    <path d=\"M18.56 5.44l.94 2.06.94-2.06 2.06-.94-2.06-.94-.94-2.06-.94 2.06-2.06.94zm-11 1L8.5 8.5l.94-2.06 2.06-.94-2.06-.94L8.5 2.5l-.94 2.06-2.06.94zm10 10l.94 2.06.94-2.06 2.06-.94-2.06-.94-.94-2.06-.94 2.06-2.06.94z\"/><path d=\"M17.41 7.96l-1.37-1.37c-.4-.4-.92-.59-1.43-.59-.52 0-1.04.2-1.43.59L10.3 9.45l-7.72 7.72c-.78.78-.78 2.05 0 2.83L4 21.41c.39.39.9.59 1.41.59.51 0 1.02-.2 1.41-.59l7.78-7.78 2.81-2.81c.8-.78.8-2.07 0-2.86zM5.41 20L4 18.59l7.72-7.72 1.47 1.35L5.41 20z\"/>\n",
              "  </svg>\n",
              "      </button>\n",
              "      \n",
              "  <style>\n",
              "    .colab-df-container {\n",
              "      display:flex;\n",
              "      flex-wrap:wrap;\n",
              "      gap: 12px;\n",
              "    }\n",
              "\n",
              "    .colab-df-convert {\n",
              "      background-color: #E8F0FE;\n",
              "      border: none;\n",
              "      border-radius: 50%;\n",
              "      cursor: pointer;\n",
              "      display: none;\n",
              "      fill: #1967D2;\n",
              "      height: 32px;\n",
              "      padding: 0 0 0 0;\n",
              "      width: 32px;\n",
              "    }\n",
              "\n",
              "    .colab-df-convert:hover {\n",
              "      background-color: #E2EBFA;\n",
              "      box-shadow: 0px 1px 2px rgba(60, 64, 67, 0.3), 0px 1px 3px 1px rgba(60, 64, 67, 0.15);\n",
              "      fill: #174EA6;\n",
              "    }\n",
              "\n",
              "    [theme=dark] .colab-df-convert {\n",
              "      background-color: #3B4455;\n",
              "      fill: #D2E3FC;\n",
              "    }\n",
              "\n",
              "    [theme=dark] .colab-df-convert:hover {\n",
              "      background-color: #434B5C;\n",
              "      box-shadow: 0px 1px 3px 1px rgba(0, 0, 0, 0.15);\n",
              "      filter: drop-shadow(0px 1px 2px rgba(0, 0, 0, 0.3));\n",
              "      fill: #FFFFFF;\n",
              "    }\n",
              "  </style>\n",
              "\n",
              "      <script>\n",
              "        const buttonEl =\n",
              "          document.querySelector('#df-d4957d81-e26a-45f0-9163-8f974e8043b3 button.colab-df-convert');\n",
              "        buttonEl.style.display =\n",
              "          google.colab.kernel.accessAllowed ? 'block' : 'none';\n",
              "\n",
              "        async function convertToInteractive(key) {\n",
              "          const element = document.querySelector('#df-d4957d81-e26a-45f0-9163-8f974e8043b3');\n",
              "          const dataTable =\n",
              "            await google.colab.kernel.invokeFunction('convertToInteractive',\n",
              "                                                     [key], {});\n",
              "          if (!dataTable) return;\n",
              "\n",
              "          const docLinkHtml = 'Like what you see? Visit the ' +\n",
              "            '<a target=\"_blank\" href=https://colab.research.google.com/notebooks/data_table.ipynb>data table notebook</a>'\n",
              "            + ' to learn more about interactive tables.';\n",
              "          element.innerHTML = '';\n",
              "          dataTable['output_type'] = 'display_data';\n",
              "          await google.colab.output.renderOutput(dataTable, element);\n",
              "          const docLink = document.createElement('div');\n",
              "          docLink.innerHTML = docLinkHtml;\n",
              "          element.appendChild(docLink);\n",
              "        }\n",
              "      </script>\n",
              "    </div>\n",
              "  </div>\n",
              "  "
            ]
          },
          "metadata": {},
          "execution_count": 19
        }
      ]
    },
    {
      "cell_type": "markdown",
      "source": [
        "## **Analise descritiva dos dados - 2 pontos**\n",
        "\n",
        "3 - Faça uma análise exploratória dos dados, utilizando gráficos e tabelas para realizar correlações entre os atributos e que permitam criar um cenário de correlação entre eles."
      ],
      "metadata": {
        "id": "JkvVJsjg5kTq"
      }
    },
    {
      "cell_type": "code",
      "source": [
        "import seaborn as sns \n",
        "correlation_matrix = df.corr().round(2)\n",
        "\n",
        "fig, ax = plt.subplots(figsize=(10,10))    \n",
        "sns.heatmap(data=correlation_matrix, annot=True, linewidths=.5, ax=ax)"
      ],
      "metadata": {
        "id": "ENdW7hn56FFp",
        "outputId": "161b88aa-82b8-4ae7-fbba-a6cf9650adee",
        "colab": {
          "base_uri": "https://localhost:8080/",
          "height": 612
        }
      },
      "execution_count": 20,
      "outputs": [
        {
          "output_type": "execute_result",
          "data": {
            "text/plain": [
              "<Axes: >"
            ]
          },
          "metadata": {},
          "execution_count": 20
        },
        {
          "output_type": "display_data",
          "data": {
            "text/plain": [
              "<Figure size 720x720 with 2 Axes>"
            ],
            "image/png": "[encoded data removed]"
          },
          "metadata": {
            "needs_background": "light"
          }
        }
      ]
    },
    {
      "cell_type": "markdown",
      "source": [
        "## **Desenvolvimento do Modelo - 2 pontos**\n",
        "\n",
        "4 - O conjunto de dados indica a aplicação de qual modelo de aprendizagem de máquina para responder a pergunta do desafio? Por quê? (1,0)"
      ],
      "metadata": {
        "id": "O_m8RaIs6KIz"
      }
    },
    {
      "cell_type": "markdown",
      "source": [
        "Resposta:  Aprendizagem de máquina supervisionada, porque entregamos os dados e a correlação entre os dados esperando assim que através disso a IA encontre algo a mais."
      ],
      "metadata": {
        "id": "nWTzZl2K6kY_"
      }
    },
    {
      "cell_type": "markdown",
      "source": [
        "5 - Qual a técnica sugerida para este projeto? Por quê? (1,0)"
      ],
      "metadata": {
        "id": "uUkBz0pu6nLk"
      }
    },
    {
      "cell_type": "markdown",
      "source": [
        "Resposta: Aprendizagem de máquina supervisionada de regressão, porque através dos dados de entrada e de saida ela consegue prever algum outro tipo de saida."
      ],
      "metadata": {
        "id": "2V2a4DRv6xg_"
      }
    },
    {
      "cell_type": "markdown",
      "source": [
        "Com base nas suas respostas, agora escolha dois algortimos para implementar e comparar a performance de cada um deles ao final do desafio."
      ],
      "metadata": {
        "id": "wxJjN_cO7XbH"
      }
    },
    {
      "cell_type": "code",
      "source": [],
      "metadata": {
        "id": "rG3pDWpXh5Xy"
      },
      "execution_count": 20,
      "outputs": []
    },
    {
      "cell_type": "markdown",
      "source": [
        "Resposta:\n",
        "\n",
        "Algoritmo 1: KM \n",
        "\n",
        "Algoritmo 2: ANO"
      ],
      "metadata": {
        "id": "N6tmcuJk7fn4"
      }
    },
    {
      "cell_type": "markdown",
      "source": [
        "## **Treinamento e teste do Modelo - 3 pontos**\n",
        "\n",
        "6 - Crie um subset dos dados que serão utilizados para o treinamento e para o teste do modelo. Divida este subset em treino e teste. (1,0) "
      ],
      "metadata": {
        "id": "H9gsbQvj6y_m"
      }
    },
    {
      "cell_type": "code",
      "source": [
        "X = df.drop(['km'], axis=1)              ### teste com todas as entradas\n",
        "\n",
        "Y = df['km']             \n",
        "print(f\"Formato das tabelas de dados {X.shape} e saidas {Y.shape}\")\n",
        "\n",
        "from sklearn.model_selection import train_test_split\n",
        "\n",
        "X_treino, X_teste, Y_treino, Y_teste = train_test_split(X, Y, test_size=0.2, random_state=42)\n",
        "\n",
        "print(X_treino.shape)\n",
        "print(X_teste.shape)\n",
        "print(Y_treino.shape)\n",
        "print(Y_teste.shape)"
      ],
      "metadata": {
        "id": "WW17xlyN78B8",
        "outputId": "26b31a0a-ce72-4bda-ade0-808b2edbb837",
        "colab": {
          "base_uri": "https://localhost:8080/"
        }
      },
      "execution_count": 21,
      "outputs": [
        {
          "output_type": "stream",
          "name": "stdout",
          "text": [
            "Formato das tabelas de dados (4025, 8) e saidas (4025,)\n",
            "(3220, 8)\n",
            "(805, 8)\n",
            "(3220,)\n",
            "(805,)\n"
          ]
        }
      ]
    },
    {
      "cell_type": "markdown",
      "source": [
        "7 - Faça o treinamento e teste dos 2 algoritmos escolhidos. Utilize uma métrica (ex. R2-score, RMSE e MAE...) para avaliar a performance dos modelos."
      ],
      "metadata": {
        "id": "QpDpVyWw7-Au"
      }
    },
    {
      "cell_type": "markdown",
      "source": [
        "7.1 - Algoritmo 1: (0,5)\n"
      ],
      "metadata": {
        "id": "Ft06krzb8RAV"
      }
    },
    {
      "cell_type": "code",
      "source": [
        "X_treino.head()"
      ],
      "metadata": {
        "id": "vf4QB14J8Usb",
        "outputId": "1f0792cb-220b-48a0-c7b8-b1bb1bf4cac9",
        "colab": {
          "base_uri": "https://localhost:8080/",
          "height": 206
        }
      },
      "execution_count": 22,
      "outputs": [
        {
          "output_type": "execute_result",
          "data": {
            "text/plain": [
              "              marca    preço       tipo  motor combustivel cadastro   Ano  \\\n",
              "2882     Volkswagen   5300.0      vagon    1.6         Gas      yes  1995   \n",
              "4035  Mercedes-Benz   5000.0      sedan    2.2      Diesel       no  2004   \n",
              "2313     Volkswagen  34000.0  crossover    3.0      Diesel      yes  2012   \n",
              "1533           Audi  62000.0      vagon    3.0      Diesel      yes  2015   \n",
              "305          Toyota  13900.0      hatch    1.6      Petrol      yes  2012   \n",
              "\n",
              "          modelo  \n",
              "2882   Passat B4  \n",
              "4035     E-Class  \n",
              "2313     Touareg  \n",
              "1533  A6 Allroad  \n",
              "305        Auris  "
            ],
            "text/html": [
              "\n",
              "  <div id=\"df-7a63f354-1d5f-47af-9078-f7ab0fd3141b\">\n",
              "    <div class=\"colab-df-container\">\n",
              "      <div>\n",
              "<style scoped>\n",
              "    .dataframe tbody tr th:only-of-type {\n",
              "        vertical-align: middle;\n",
              "    }\n",
              "\n",
              "    .dataframe tbody tr th {\n",
              "        vertical-align: top;\n",
              "    }\n",
              "\n",
              "    .dataframe thead th {\n",
              "        text-align: right;\n",
              "    }\n",
              "</style>\n",
              "<table border=\"1\" class=\"dataframe\">\n",
              "  <thead>\n",
              "    <tr style=\"text-align: right;\">\n",
              "      <th></th>\n",
              "      <th>marca</th>\n",
              "      <th>preço</th>\n",
              "      <th>tipo</th>\n",
              "      <th>motor</th>\n",
              "      <th>combustivel</th>\n",
              "      <th>cadastro</th>\n",
              "      <th>Ano</th>\n",
              "      <th>modelo</th>\n",
              "    </tr>\n",
              "  </thead>\n",
              "  <tbody>\n",
              "    <tr>\n",
              "      <th>2882</th>\n",
              "      <td>Volkswagen</td>\n",
              "      <td>5300.0</td>\n",
              "      <td>vagon</td>\n",
              "      <td>1.6</td>\n",
              "      <td>Gas</td>\n",
              "      <td>yes</td>\n",
              "      <td>1995</td>\n",
              "      <td>Passat B4</td>\n",
              "    </tr>\n",
              "    <tr>\n",
              "      <th>4035</th>\n",
              "      <td>Mercedes-Benz</td>\n",
              "      <td>5000.0</td>\n",
              "      <td>sedan</td>\n",
              "      <td>2.2</td>\n",
              "      <td>Diesel</td>\n",
              "      <td>no</td>\n",
              "      <td>2004</td>\n",
              "      <td>E-Class</td>\n",
              "    </tr>\n",
              "    <tr>\n",
              "      <th>2313</th>\n",
              "      <td>Volkswagen</td>\n",
              "      <td>34000.0</td>\n",
              "      <td>crossover</td>\n",
              "      <td>3.0</td>\n",
              "      <td>Diesel</td>\n",
              "      <td>yes</td>\n",
              "      <td>2012</td>\n",
              "      <td>Touareg</td>\n",
              "    </tr>\n",
              "    <tr>\n",
              "      <th>1533</th>\n",
              "      <td>Audi</td>\n",
              "      <td>62000.0</td>\n",
              "      <td>vagon</td>\n",
              "      <td>3.0</td>\n",
              "      <td>Diesel</td>\n",
              "      <td>yes</td>\n",
              "      <td>2015</td>\n",
              "      <td>A6 Allroad</td>\n",
              "    </tr>\n",
              "    <tr>\n",
              "      <th>305</th>\n",
              "      <td>Toyota</td>\n",
              "      <td>13900.0</td>\n",
              "      <td>hatch</td>\n",
              "      <td>1.6</td>\n",
              "      <td>Petrol</td>\n",
              "      <td>yes</td>\n",
              "      <td>2012</td>\n",
              "      <td>Auris</td>\n",
              "    </tr>\n",
              "  </tbody>\n",
              "</table>\n",
              "</div>\n",
              "      <button class=\"colab-df-convert\" onclick=\"convertToInteractive('df-7a63f354-1d5f-47af-9078-f7ab0fd3141b')\"\n",
              "              title=\"Convert this dataframe to an interactive table.\"\n",
              "              style=\"display:none;\">\n",
              "        \n",
              "  <svg xmlns=\"http://www.w3.org/2000/svg\" height=\"24px\"viewBox=\"0 0 24 24\"\n",
              "       width=\"24px\">\n",
              "    <path d=\"M0 0h24v24H0V0z\" fill=\"none\"/>\n",
              "    <path d=\"M18.56 5.44l.94 2.06.94-2.06 2.06-.94-2.06-.94-.94-2.06-.94 2.06-2.06.94zm-11 1L8.5 8.5l.94-2.06 2.06-.94-2.06-.94L8.5 2.5l-.94 2.06-2.06.94zm10 10l.94 2.06.94-2.06 2.06-.94-2.06-.94-.94-2.06-.94 2.06-2.06.94z\"/><path d=\"M17.41 7.96l-1.37-1.37c-.4-.4-.92-.59-1.43-.59-.52 0-1.04.2-1.43.59L10.3 9.45l-7.72 7.72c-.78.78-.78 2.05 0 2.83L4 21.41c.39.39.9.59 1.41.59.51 0 1.02-.2 1.41-.59l7.78-7.78 2.81-2.81c.8-.78.8-2.07 0-2.86zM5.41 20L4 18.59l7.72-7.72 1.47 1.35L5.41 20z\"/>\n",
              "  </svg>\n",
              "      </button>\n",
              "      \n",
              "  <style>\n",
              "    .colab-df-container {\n",
              "      display:flex;\n",
              "      flex-wrap:wrap;\n",
              "      gap: 12px;\n",
              "    }\n",
              "\n",
              "    .colab-df-convert {\n",
              "      background-color: #E8F0FE;\n",
              "      border: none;\n",
              "      border-radius: 50%;\n",
              "      cursor: pointer;\n",
              "      display: none;\n",
              "      fill: #1967D2;\n",
              "      height: 32px;\n",
              "      padding: 0 0 0 0;\n",
              "      width: 32px;\n",
              "    }\n",
              "\n",
              "    .colab-df-convert:hover {\n",
              "      background-color: #E2EBFA;\n",
              "      box-shadow: 0px 1px 2px rgba(60, 64, 67, 0.3), 0px 1px 3px 1px rgba(60, 64, 67, 0.15);\n",
              "      fill: #174EA6;\n",
              "    }\n",
              "\n",
              "    [theme=dark] .colab-df-convert {\n",
              "      background-color: #3B4455;\n",
              "      fill: #D2E3FC;\n",
              "    }\n",
              "\n",
              "    [theme=dark] .colab-df-convert:hover {\n",
              "      background-color: #434B5C;\n",
              "      box-shadow: 0px 1px 3px 1px rgba(0, 0, 0, 0.15);\n",
              "      filter: drop-shadow(0px 1px 2px rgba(0, 0, 0, 0.3));\n",
              "      fill: #FFFFFF;\n",
              "    }\n",
              "  </style>\n",
              "\n",
              "      <script>\n",
              "        const buttonEl =\n",
              "          document.querySelector('#df-7a63f354-1d5f-47af-9078-f7ab0fd3141b button.colab-df-convert');\n",
              "        buttonEl.style.display =\n",
              "          google.colab.kernel.accessAllowed ? 'block' : 'none';\n",
              "\n",
              "        async function convertToInteractive(key) {\n",
              "          const element = document.querySelector('#df-7a63f354-1d5f-47af-9078-f7ab0fd3141b');\n",
              "          const dataTable =\n",
              "            await google.colab.kernel.invokeFunction('convertToInteractive',\n",
              "                                                     [key], {});\n",
              "          if (!dataTable) return;\n",
              "\n",
              "          const docLinkHtml = 'Like what you see? Visit the ' +\n",
              "            '<a target=\"_blank\" href=https://colab.research.google.com/notebooks/data_table.ipynb>data table notebook</a>'\n",
              "            + ' to learn more about interactive tables.';\n",
              "          element.innerHTML = '';\n",
              "          dataTable['output_type'] = 'display_data';\n",
              "          await google.colab.output.renderOutput(dataTable, element);\n",
              "          const docLink = document.createElement('div');\n",
              "          docLink.innerHTML = docLinkHtml;\n",
              "          element.appendChild(docLink);\n",
              "        }\n",
              "      </script>\n",
              "    </div>\n",
              "  </div>\n",
              "  "
            ]
          },
          "metadata": {},
          "execution_count": 22
        }
      ]
    },
    {
      "cell_type": "markdown",
      "source": [
        "7.2 - Algoritmo 2:  (0,5)"
      ],
      "metadata": {
        "id": "S8MKlSSM8dz5"
      }
    },
    {
      "cell_type": "code",
      "source": [
        "Y_treino.head()"
      ],
      "metadata": {
        "id": "6kM92epO8gas",
        "outputId": "c85bdca9-220b-4f25-add6-f1d690afad87",
        "colab": {
          "base_uri": "https://localhost:8080/"
        }
      },
      "execution_count": 23,
      "outputs": [
        {
          "output_type": "execute_result",
          "data": {
            "text/plain": [
              "2882    416819.06\n",
              "4035    386241.60\n",
              "2313    148059.28\n",
              "1533     38624.16\n",
              "305     144840.60\n",
              "Name: km, dtype: float64"
            ]
          },
          "metadata": {},
          "execution_count": 23
        }
      ]
    },
    {
      "cell_type": "markdown",
      "source": [
        "7.3 - Qual dos algortimos obteve melhor resultado? Por quê? (1,0)"
      ],
      "metadata": {
        "id": "rBJqsqIB84E_"
      }
    },
    {
      "cell_type": "markdown",
      "source": [
        "Resposta:"
      ],
      "metadata": {
        "id": "cnGh51RS8_we"
      }
    },
    {
      "cell_type": "markdown",
      "source": [
        "## **Modelo de Produção: Teste com novos dados - 1 ponto**\n",
        "\n",
        "8 - Use o seu modelo treinado para responder a pergunta do desafio:"
      ],
      "metadata": {
        "id": "YpNVMhSw9Fe7"
      }
    },
    {
      "cell_type": "code",
      "source": [],
      "metadata": {
        "id": "zCssWHNU9R8P",
        "outputId": "2e9d5b71-71b8-4fb3-b22e-da291738fe44",
        "colab": {
          "base_uri": "https://localhost:8080/",
          "height": 345
        }
      },
      "execution_count": 17,
      "outputs": [
        {
          "output_type": "error",
          "ename": "ValueError",
          "evalue": "ignored",
          "traceback": [
            "\u001b[0;31m---------------------------------------------------------------------------\u001b[0m",
            "\u001b[0;31mValueError\u001b[0m                                Traceback (most recent call last)",
            "\u001b[0;32m<ipython-input-17-761b2c2dde6f>\u001b[0m in \u001b[0;36m<module>\u001b[0;34m\u001b[0m\n\u001b[1;32m      3\u001b[0m \u001b[0;34m\u001b[0m\u001b[0m\n\u001b[1;32m      4\u001b[0m \u001b[0mlin_model\u001b[0m \u001b[0;34m=\u001b[0m \u001b[0mLinearRegression\u001b[0m\u001b[0;34m(\u001b[0m\u001b[0;34m)\u001b[0m\u001b[0;34m\u001b[0m\u001b[0;34m\u001b[0m\u001b[0m\n\u001b[0;32m----> 5\u001b[0;31m \u001b[0mlin_model\u001b[0m\u001b[0;34m.\u001b[0m\u001b[0mfit\u001b[0m\u001b[0;34m(\u001b[0m\u001b[0mX_treino\u001b[0m\u001b[0;34m,\u001b[0m \u001b[0mY_treino\u001b[0m\u001b[0;34m)\u001b[0m\u001b[0;34m\u001b[0m\u001b[0;34m\u001b[0m\u001b[0m\n\u001b[0m",
            "\u001b[0;32m/usr/local/lib/python3.9/dist-packages/sklearn/linear_model/_base.py\u001b[0m in \u001b[0;36mfit\u001b[0;34m(self, X, y, sample_weight)\u001b[0m\n\u001b[1;32m    646\u001b[0m         \u001b[0maccept_sparse\u001b[0m \u001b[0;34m=\u001b[0m \u001b[0;32mFalse\u001b[0m \u001b[0;32mif\u001b[0m \u001b[0mself\u001b[0m\u001b[0;34m.\u001b[0m\u001b[0mpositive\u001b[0m \u001b[0;32melse\u001b[0m \u001b[0;34m[\u001b[0m\u001b[0;34m\"csr\"\u001b[0m\u001b[0;34m,\u001b[0m \u001b[0;34m\"csc\"\u001b[0m\u001b[0;34m,\u001b[0m \u001b[0;34m\"coo\"\u001b[0m\u001b[0;34m]\u001b[0m\u001b[0;34m\u001b[0m\u001b[0;34m\u001b[0m\u001b[0m\n\u001b[1;32m    647\u001b[0m \u001b[0;34m\u001b[0m\u001b[0m\n\u001b[0;32m--> 648\u001b[0;31m         X, y = self._validate_data(\n\u001b[0m\u001b[1;32m    649\u001b[0m             \u001b[0mX\u001b[0m\u001b[0;34m,\u001b[0m \u001b[0my\u001b[0m\u001b[0;34m,\u001b[0m \u001b[0maccept_sparse\u001b[0m\u001b[0;34m=\u001b[0m\u001b[0maccept_sparse\u001b[0m\u001b[0;34m,\u001b[0m \u001b[0my_numeric\u001b[0m\u001b[0;34m=\u001b[0m\u001b[0;32mTrue\u001b[0m\u001b[0;34m,\u001b[0m \u001b[0mmulti_output\u001b[0m\u001b[0;34m=\u001b[0m\u001b[0;32mTrue\u001b[0m\u001b[0;34m\u001b[0m\u001b[0;34m\u001b[0m\u001b[0m\n\u001b[1;32m    650\u001b[0m         )\n",
            "\u001b[0;32m/usr/local/lib/python3.9/dist-packages/sklearn/base.py\u001b[0m in \u001b[0;36m_validate_data\u001b[0;34m(self, X, y, reset, validate_separately, **check_params)\u001b[0m\n\u001b[1;32m    582\u001b[0m                 \u001b[0my\u001b[0m \u001b[0;34m=\u001b[0m \u001b[0mcheck_array\u001b[0m\u001b[0;34m(\u001b[0m\u001b[0my\u001b[0m\u001b[0;34m,\u001b[0m \u001b[0minput_name\u001b[0m\u001b[0;34m=\u001b[0m\u001b[0;34m\"y\"\u001b[0m\u001b[0;34m,\u001b[0m \u001b[0;34m**\u001b[0m\u001b[0mcheck_y_params\u001b[0m\u001b[0;34m)\u001b[0m\u001b[0;34m\u001b[0m\u001b[0;34m\u001b[0m\u001b[0m\n\u001b[1;32m    583\u001b[0m             \u001b[0;32melse\u001b[0m\u001b[0;34m:\u001b[0m\u001b[0;34m\u001b[0m\u001b[0;34m\u001b[0m\u001b[0m\n\u001b[0;32m--> 584\u001b[0;31m                 \u001b[0mX\u001b[0m\u001b[0;34m,\u001b[0m \u001b[0my\u001b[0m \u001b[0;34m=\u001b[0m \u001b[0mcheck_X_y\u001b[0m\u001b[0;34m(\u001b[0m\u001b[0mX\u001b[0m\u001b[0;34m,\u001b[0m \u001b[0my\u001b[0m\u001b[0;34m,\u001b[0m \u001b[0;34m**\u001b[0m\u001b[0mcheck_params\u001b[0m\u001b[0;34m)\u001b[0m\u001b[0;34m\u001b[0m\u001b[0;34m\u001b[0m\u001b[0m\n\u001b[0m\u001b[1;32m    585\u001b[0m             \u001b[0mout\u001b[0m \u001b[0;34m=\u001b[0m \u001b[0mX\u001b[0m\u001b[0;34m,\u001b[0m \u001b[0my\u001b[0m\u001b[0;34m\u001b[0m\u001b[0;34m\u001b[0m\u001b[0m\n\u001b[1;32m    586\u001b[0m \u001b[0;34m\u001b[0m\u001b[0m\n",
            "\u001b[0;32m/usr/local/lib/python3.9/dist-packages/sklearn/utils/validation.py\u001b[0m in \u001b[0;36mcheck_X_y\u001b[0;34m(X, y, accept_sparse, accept_large_sparse, dtype, order, copy, force_all_finite, ensure_2d, allow_nd, multi_output, ensure_min_samples, ensure_min_features, y_numeric, estimator)\u001b[0m\n\u001b[1;32m   1104\u001b[0m         )\n\u001b[1;32m   1105\u001b[0m \u001b[0;34m\u001b[0m\u001b[0m\n\u001b[0;32m-> 1106\u001b[0;31m     X = check_array(\n\u001b[0m\u001b[1;32m   1107\u001b[0m         \u001b[0mX\u001b[0m\u001b[0;34m,\u001b[0m\u001b[0;34m\u001b[0m\u001b[0;34m\u001b[0m\u001b[0m\n\u001b[1;32m   1108\u001b[0m         \u001b[0maccept_sparse\u001b[0m\u001b[0;34m=\u001b[0m\u001b[0maccept_sparse\u001b[0m\u001b[0;34m,\u001b[0m\u001b[0;34m\u001b[0m\u001b[0;34m\u001b[0m\u001b[0m\n",
            "\u001b[0;32m/usr/local/lib/python3.9/dist-packages/sklearn/utils/validation.py\u001b[0m in \u001b[0;36mcheck_array\u001b[0;34m(array, accept_sparse, accept_large_sparse, dtype, order, copy, force_all_finite, ensure_2d, allow_nd, ensure_min_samples, ensure_min_features, estimator, input_name)\u001b[0m\n\u001b[1;32m    877\u001b[0m                     \u001b[0marray\u001b[0m \u001b[0;34m=\u001b[0m \u001b[0mxp\u001b[0m\u001b[0;34m.\u001b[0m\u001b[0mastype\u001b[0m\u001b[0;34m(\u001b[0m\u001b[0marray\u001b[0m\u001b[0;34m,\u001b[0m \u001b[0mdtype\u001b[0m\u001b[0;34m,\u001b[0m \u001b[0mcopy\u001b[0m\u001b[0;34m=\u001b[0m\u001b[0;32mFalse\u001b[0m\u001b[0;34m)\u001b[0m\u001b[0;34m\u001b[0m\u001b[0;34m\u001b[0m\u001b[0m\n\u001b[1;32m    878\u001b[0m                 \u001b[0;32melse\u001b[0m\u001b[0;34m:\u001b[0m\u001b[0;34m\u001b[0m\u001b[0;34m\u001b[0m\u001b[0m\n\u001b[0;32m--> 879\u001b[0;31m                     \u001b[0marray\u001b[0m \u001b[0;34m=\u001b[0m \u001b[0m_asarray_with_order\u001b[0m\u001b[0;34m(\u001b[0m\u001b[0marray\u001b[0m\u001b[0;34m,\u001b[0m \u001b[0morder\u001b[0m\u001b[0;34m=\u001b[0m\u001b[0morder\u001b[0m\u001b[0;34m,\u001b[0m \u001b[0mdtype\u001b[0m\u001b[0;34m=\u001b[0m\u001b[0mdtype\u001b[0m\u001b[0;34m,\u001b[0m \u001b[0mxp\u001b[0m\u001b[0;34m=\u001b[0m\u001b[0mxp\u001b[0m\u001b[0;34m)\u001b[0m\u001b[0;34m\u001b[0m\u001b[0;34m\u001b[0m\u001b[0m\n\u001b[0m\u001b[1;32m    880\u001b[0m             \u001b[0;32mexcept\u001b[0m \u001b[0mComplexWarning\u001b[0m \u001b[0;32mas\u001b[0m \u001b[0mcomplex_warning\u001b[0m\u001b[0;34m:\u001b[0m\u001b[0;34m\u001b[0m\u001b[0;34m\u001b[0m\u001b[0m\n\u001b[1;32m    881\u001b[0m                 raise ValueError(\n",
            "\u001b[0;32m/usr/local/lib/python3.9/dist-packages/sklearn/utils/_array_api.py\u001b[0m in \u001b[0;36m_asarray_with_order\u001b[0;34m(array, dtype, order, copy, xp)\u001b[0m\n\u001b[1;32m    183\u001b[0m     \u001b[0;32mif\u001b[0m \u001b[0mxp\u001b[0m\u001b[0;34m.\u001b[0m\u001b[0m__name__\u001b[0m \u001b[0;32min\u001b[0m \u001b[0;34m{\u001b[0m\u001b[0;34m\"numpy\"\u001b[0m\u001b[0;34m,\u001b[0m \u001b[0;34m\"numpy.array_api\"\u001b[0m\u001b[0;34m}\u001b[0m\u001b[0;34m:\u001b[0m\u001b[0;34m\u001b[0m\u001b[0;34m\u001b[0m\u001b[0m\n\u001b[1;32m    184\u001b[0m         \u001b[0;31m# Use NumPy API to support order\u001b[0m\u001b[0;34m\u001b[0m\u001b[0;34m\u001b[0m\u001b[0m\n\u001b[0;32m--> 185\u001b[0;31m         \u001b[0marray\u001b[0m \u001b[0;34m=\u001b[0m \u001b[0mnumpy\u001b[0m\u001b[0;34m.\u001b[0m\u001b[0masarray\u001b[0m\u001b[0;34m(\u001b[0m\u001b[0marray\u001b[0m\u001b[0;34m,\u001b[0m \u001b[0morder\u001b[0m\u001b[0;34m=\u001b[0m\u001b[0morder\u001b[0m\u001b[0;34m,\u001b[0m \u001b[0mdtype\u001b[0m\u001b[0;34m=\u001b[0m\u001b[0mdtype\u001b[0m\u001b[0;34m)\u001b[0m\u001b[0;34m\u001b[0m\u001b[0;34m\u001b[0m\u001b[0m\n\u001b[0m\u001b[1;32m    186\u001b[0m         \u001b[0;32mreturn\u001b[0m \u001b[0mxp\u001b[0m\u001b[0;34m.\u001b[0m\u001b[0masarray\u001b[0m\u001b[0;34m(\u001b[0m\u001b[0marray\u001b[0m\u001b[0;34m,\u001b[0m \u001b[0mcopy\u001b[0m\u001b[0;34m=\u001b[0m\u001b[0mcopy\u001b[0m\u001b[0;34m)\u001b[0m\u001b[0;34m\u001b[0m\u001b[0;34m\u001b[0m\u001b[0m\n\u001b[1;32m    187\u001b[0m     \u001b[0;32melse\u001b[0m\u001b[0;34m:\u001b[0m\u001b[0;34m\u001b[0m\u001b[0;34m\u001b[0m\u001b[0m\n",
            "\u001b[0;32m/usr/local/lib/python3.9/dist-packages/pandas/core/generic.py\u001b[0m in \u001b[0;36m__array__\u001b[0;34m(self, dtype)\u001b[0m\n\u001b[1;32m   2062\u001b[0m \u001b[0;34m\u001b[0m\u001b[0m\n\u001b[1;32m   2063\u001b[0m     \u001b[0;32mdef\u001b[0m \u001b[0m__array__\u001b[0m\u001b[0;34m(\u001b[0m\u001b[0mself\u001b[0m\u001b[0;34m,\u001b[0m \u001b[0mdtype\u001b[0m\u001b[0;34m:\u001b[0m \u001b[0mnpt\u001b[0m\u001b[0;34m.\u001b[0m\u001b[0mDTypeLike\u001b[0m \u001b[0;34m|\u001b[0m \u001b[0;32mNone\u001b[0m \u001b[0;34m=\u001b[0m \u001b[0;32mNone\u001b[0m\u001b[0;34m)\u001b[0m \u001b[0;34m->\u001b[0m \u001b[0mnp\u001b[0m\u001b[0;34m.\u001b[0m\u001b[0mndarray\u001b[0m\u001b[0;34m:\u001b[0m\u001b[0;34m\u001b[0m\u001b[0;34m\u001b[0m\u001b[0m\n\u001b[0;32m-> 2064\u001b[0;31m         \u001b[0;32mreturn\u001b[0m \u001b[0mnp\u001b[0m\u001b[0;34m.\u001b[0m\u001b[0masarray\u001b[0m\u001b[0;34m(\u001b[0m\u001b[0mself\u001b[0m\u001b[0;34m.\u001b[0m\u001b[0m_values\u001b[0m\u001b[0;34m,\u001b[0m \u001b[0mdtype\u001b[0m\u001b[0;34m=\u001b[0m\u001b[0mdtype\u001b[0m\u001b[0;34m)\u001b[0m\u001b[0;34m\u001b[0m\u001b[0;34m\u001b[0m\u001b[0m\n\u001b[0m\u001b[1;32m   2065\u001b[0m \u001b[0;34m\u001b[0m\u001b[0m\n\u001b[1;32m   2066\u001b[0m     def __array_wrap__(\n",
            "\u001b[0;31mValueError\u001b[0m: could not convert string to float: 'Volkswagen'"
          ]
        }
      ]
    }
  ]
}